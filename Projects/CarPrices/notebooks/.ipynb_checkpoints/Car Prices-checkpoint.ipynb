{
 "cells": [
  {
   "cell_type": "markdown",
   "id": "c4276d77",
   "metadata": {},
   "source": [
    "# Web Scraping Car Prices at Bilweb.se"
   ]
  },
  {
   "cell_type": "markdown",
   "id": "daf0225f",
   "metadata": {},
   "source": [
    "### OBS! Only for educational purposes"
   ]
  },
  {
   "cell_type": "markdown",
   "id": "d892804c",
   "metadata": {},
   "source": [
    "# 1) Import Packages "
   ]
  },
  {
   "cell_type": "code",
   "execution_count": 26,
   "id": "93d5ba05",
   "metadata": {},
   "outputs": [],
   "source": [
    "import os\n",
    "os.chdir('..') # Running this to in order to be able to import local files.\n",
    "import requests\n",
    "from bs4 import BeautifulSoup\n",
    "import bs4\n",
    "import json\n",
    "import re as re\n",
    "import pandas as pd\n",
    "import seaborn as sns\n",
    "from collections import Counter\n",
    "from datetime import datetime,date,timedelta\n",
    "import numpy as np\n",
    "import sqlite3\n",
    "import pickle\n",
    "import utils.db_queries # Local File\n",
    "import utils.car_prices_functions # Local File"
   ]
  },
  {
   "cell_type": "markdown",
   "id": "0e54e1f1",
   "metadata": {},
   "source": [
    "# 2) Extracting, Manipulating and Inserting the data"
   ]
  },
  {
   "cell_type": "code",
   "execution_count": 3,
   "id": "6b858be7",
   "metadata": {},
   "outputs": [],
   "source": [
    "# Here we are importing the mapping between the unique code for a given car brand on Bilweb. Keep in mind that the \n",
    "# mapping can change on their end. This mapping was collected from the response and stored as a dictionary for future use.\n",
    "with open('car_brand_dict.pkl', 'rb') as handle:\n",
    "    car_brand_dict = pickle.load(handle)"
   ]
  },
  {
   "cell_type": "code",
   "execution_count": 88,
   "id": "de729a10",
   "metadata": {},
   "outputs": [],
   "source": [
    "# Pulling a given card brand for the Stockholms Region. Automatic cars only. \n",
    "car_brand_code = car_brand_dict['Volvo']\n",
    "x = requests.get(f\"https://bilweb.se/sok?offset=0&limit=1000&order_by=timestamp&order=desc&type=1&brand={car_brand_code}&have_mrf_association=&query=&price_min=0&price_max=500000&year_min=&year_max=&property_mileage_min=&property_mileage_max=&fuel%5B%5D=1&fuel%5B%5D=4&fuel%5B%5D=5&gear_box%5B%5D=2&region=12\")\n",
    "html=x.content\n",
    "soup = BeautifulSoup(html)"
   ]
  },
  {
   "cell_type": "code",
   "execution_count": 89,
   "id": "bded16c6",
   "metadata": {},
   "outputs": [],
   "source": [
    "# Setting up a connection to a local SQLite3 Database\n",
    "sql_connection = dq.create_connection('car_prices.db')\n",
    "cursor = sql_connection.cursor()"
   ]
  },
  {
   "cell_type": "code",
   "execution_count": 90,
   "id": "d2324ceb",
   "metadata": {},
   "outputs": [],
   "source": [
    "# Create the dataset from the data points that are extracted from the html.\n",
    "car_dataset, car_dataset_copy = cpf.create_car_dataset(soup) \n",
    "\n",
    "#Insert dataset into the local SQLite3 Database\n",
    "dq.insert_into_db(car_dataset)"
   ]
  },
  {
   "cell_type": "markdown",
   "id": "568b2d0e",
   "metadata": {},
   "source": [
    "# 3) Extracting data from the database"
   ]
  },
  {
   "cell_type": "code",
   "execution_count": 91,
   "id": "0cfde261",
   "metadata": {},
   "outputs": [],
   "source": [
    "sql = \"SELECT * FROM CAR_DATASET\"\n",
    "cursor.execute(sql)\n",
    "rows = cursor.fetchall()"
   ]
  },
  {
   "cell_type": "code",
   "execution_count": 92,
   "id": "c6045e2f",
   "metadata": {
    "scrolled": true
   },
   "outputs": [],
   "source": [
    "full_dataset = pd.DataFrame(rows)\n",
    "full_dataset.columns = ['PRICE','TIMESTAMP','CAR_STRING','YEAR','MILES','CAR_MODEL']"
   ]
  },
  {
   "cell_type": "code",
   "execution_count": 93,
   "id": "e3c7f93a",
   "metadata": {},
   "outputs": [
    {
     "data": {
      "text/html": [
       "<div>\n",
       "<style scoped>\n",
       "    .dataframe tbody tr th:only-of-type {\n",
       "        vertical-align: middle;\n",
       "    }\n",
       "\n",
       "    .dataframe tbody tr th {\n",
       "        vertical-align: top;\n",
       "    }\n",
       "\n",
       "    .dataframe thead th {\n",
       "        text-align: right;\n",
       "    }\n",
       "</style>\n",
       "<table border=\"1\" class=\"dataframe\">\n",
       "  <thead>\n",
       "    <tr style=\"text-align: right;\">\n",
       "      <th></th>\n",
       "      <th>PRICE</th>\n",
       "      <th>TIMESTAMP</th>\n",
       "      <th>CAR_STRING</th>\n",
       "      <th>YEAR</th>\n",
       "      <th>MILES</th>\n",
       "      <th>CAR_MODEL</th>\n",
       "    </tr>\n",
       "  </thead>\n",
       "  <tbody>\n",
       "    <tr>\n",
       "      <th>482</th>\n",
       "      <td>0</td>\n",
       "      <td>02-01</td>\n",
       "      <td>Tesla Model 3 Long Range Dual Motor AWD 2019</td>\n",
       "      <td>2019</td>\n",
       "      <td>6907</td>\n",
       "      <td>Tesla</td>\n",
       "    </tr>\n",
       "    <tr>\n",
       "      <th>488</th>\n",
       "      <td>0</td>\n",
       "      <td>02-01</td>\n",
       "      <td>Tesla Model 3 Long Range Dual Motor AWD 2019</td>\n",
       "      <td>2019</td>\n",
       "      <td>5126</td>\n",
       "      <td>Tesla</td>\n",
       "    </tr>\n",
       "    <tr>\n",
       "      <th>487</th>\n",
       "      <td>280000</td>\n",
       "      <td>02-01</td>\n",
       "      <td>Tesla Model S 60 2013</td>\n",
       "      <td>2013</td>\n",
       "      <td>24805</td>\n",
       "      <td>Tesla</td>\n",
       "    </tr>\n",
       "    <tr>\n",
       "      <th>472</th>\n",
       "      <td>332000</td>\n",
       "      <td>02-03</td>\n",
       "      <td>Tesla Model S P85D 2015</td>\n",
       "      <td>2015</td>\n",
       "      <td>17885</td>\n",
       "      <td>Tesla</td>\n",
       "    </tr>\n",
       "    <tr>\n",
       "      <th>528</th>\n",
       "      <td>371900</td>\n",
       "      <td>01-19</td>\n",
       "      <td>Tesla Model 3 Standard Range Plus Pano Autopil...</td>\n",
       "      <td>2020</td>\n",
       "      <td>8010</td>\n",
       "      <td>Tesla</td>\n",
       "    </tr>\n",
       "    <tr>\n",
       "      <th>533</th>\n",
       "      <td>377900</td>\n",
       "      <td>01-18</td>\n",
       "      <td>Tesla Model S 85 Pano Backkamera Svensksåld 2014</td>\n",
       "      <td>2014</td>\n",
       "      <td>17528</td>\n",
       "      <td>Tesla</td>\n",
       "    </tr>\n",
       "    <tr>\n",
       "      <th>491</th>\n",
       "      <td>378000</td>\n",
       "      <td>01-31</td>\n",
       "      <td>Tesla Model 3 Performance AWD 2019</td>\n",
       "      <td>2019</td>\n",
       "      <td>9924</td>\n",
       "      <td>Tesla</td>\n",
       "    </tr>\n",
       "    <tr>\n",
       "      <th>516</th>\n",
       "      <td>384800</td>\n",
       "      <td>01-23</td>\n",
       "      <td>Tesla Model 3 Standard Range Plus Svensksåld 2019</td>\n",
       "      <td>2019</td>\n",
       "      <td>5297</td>\n",
       "      <td>Tesla</td>\n",
       "    </tr>\n",
       "    <tr>\n",
       "      <th>693</th>\n",
       "      <td>385000</td>\n",
       "      <td>11-09</td>\n",
       "      <td>Tesla Model 3 Standard Range Plus RWD Pano Nav...</td>\n",
       "      <td>2020</td>\n",
       "      <td>6910</td>\n",
       "      <td>Tesla</td>\n",
       "    </tr>\n",
       "    <tr>\n",
       "      <th>580</th>\n",
       "      <td>388000</td>\n",
       "      <td>12-28</td>\n",
       "      <td>Tesla Model 3 Standard Range Plus RWD Drag Nav...</td>\n",
       "      <td>2019</td>\n",
       "      <td>5935</td>\n",
       "      <td>Tesla</td>\n",
       "    </tr>\n",
       "    <tr>\n",
       "      <th>524</th>\n",
       "      <td>389900</td>\n",
       "      <td>01-21</td>\n",
       "      <td>Tesla Model 3 Standard Range Plus Pano Autopil...</td>\n",
       "      <td>2020</td>\n",
       "      <td>6293</td>\n",
       "      <td>Tesla</td>\n",
       "    </tr>\n",
       "    <tr>\n",
       "      <th>540</th>\n",
       "      <td>389900</td>\n",
       "      <td>01-17</td>\n",
       "      <td>Tesla Model 3 Standard Range Plus Pano Autopil...</td>\n",
       "      <td>2020</td>\n",
       "      <td>5710</td>\n",
       "      <td>Tesla</td>\n",
       "    </tr>\n",
       "    <tr>\n",
       "      <th>537</th>\n",
       "      <td>391900</td>\n",
       "      <td>01-17</td>\n",
       "      <td>Tesla Model 3 Standard Range Plus Pano Autopil...</td>\n",
       "      <td>2020</td>\n",
       "      <td>3794</td>\n",
       "      <td>Tesla</td>\n",
       "    </tr>\n",
       "    <tr>\n",
       "      <th>517</th>\n",
       "      <td>399800</td>\n",
       "      <td>01-23</td>\n",
       "      <td>Tesla Model 3 Standard Range Plus Autopilot Sv...</td>\n",
       "      <td>2019</td>\n",
       "      <td>3143</td>\n",
       "      <td>Tesla</td>\n",
       "    </tr>\n",
       "    <tr>\n",
       "      <th>685</th>\n",
       "      <td>399800</td>\n",
       "      <td>11-15</td>\n",
       "      <td>Tesla Model S 85 Pano Navi Autopilot 2014</td>\n",
       "      <td>2014</td>\n",
       "      <td>8572</td>\n",
       "      <td>Tesla</td>\n",
       "    </tr>\n",
       "  </tbody>\n",
       "</table>\n",
       "</div>"
      ],
      "text/plain": [
       "      PRICE TIMESTAMP                                         CAR_STRING  \\\n",
       "482       0     02-01       Tesla Model 3 Long Range Dual Motor AWD 2019   \n",
       "488       0     02-01       Tesla Model 3 Long Range Dual Motor AWD 2019   \n",
       "487  280000     02-01                              Tesla Model S 60 2013   \n",
       "472  332000     02-03                            Tesla Model S P85D 2015   \n",
       "528  371900     01-19  Tesla Model 3 Standard Range Plus Pano Autopil...   \n",
       "533  377900     01-18   Tesla Model S 85 Pano Backkamera Svensksåld 2014   \n",
       "491  378000     01-31                 Tesla Model 3 Performance AWD 2019   \n",
       "516  384800     01-23  Tesla Model 3 Standard Range Plus Svensksåld 2019   \n",
       "693  385000     11-09  Tesla Model 3 Standard Range Plus RWD Pano Nav...   \n",
       "580  388000     12-28  Tesla Model 3 Standard Range Plus RWD Drag Nav...   \n",
       "524  389900     01-21  Tesla Model 3 Standard Range Plus Pano Autopil...   \n",
       "540  389900     01-17  Tesla Model 3 Standard Range Plus Pano Autopil...   \n",
       "537  391900     01-17  Tesla Model 3 Standard Range Plus Pano Autopil...   \n",
       "517  399800     01-23  Tesla Model 3 Standard Range Plus Autopilot Sv...   \n",
       "685  399800     11-15          Tesla Model S 85 Pano Navi Autopilot 2014   \n",
       "\n",
       "     YEAR  MILES CAR_MODEL  \n",
       "482  2019   6907     Tesla  \n",
       "488  2019   5126     Tesla  \n",
       "487  2013  24805     Tesla  \n",
       "472  2015  17885     Tesla  \n",
       "528  2020   8010     Tesla  \n",
       "533  2014  17528     Tesla  \n",
       "491  2019   9924     Tesla  \n",
       "516  2019   5297     Tesla  \n",
       "693  2020   6910     Tesla  \n",
       "580  2019   5935     Tesla  \n",
       "524  2020   6293     Tesla  \n",
       "540  2020   5710     Tesla  \n",
       "537  2020   3794     Tesla  \n",
       "517  2019   3143     Tesla  \n",
       "685  2014   8572     Tesla  "
      ]
     },
     "execution_count": 93,
     "metadata": {},
     "output_type": "execute_result"
    }
   ],
   "source": [
    "full_dataset.query(\"CAR_STRING.str.contains('Tesla') & PRICE < 400000\").head(50).sort_values(by = 'PRICE')"
   ]
  }
 ],
 "metadata": {
  "kernelspec": {
   "display_name": "Python 3 (ipykernel)",
   "language": "python",
   "name": "python3"
  },
  "language_info": {
   "codemirror_mode": {
    "name": "ipython",
    "version": 3
   },
   "file_extension": ".py",
   "mimetype": "text/x-python",
   "name": "python",
   "nbconvert_exporter": "python",
   "pygments_lexer": "ipython3",
   "version": "3.10.8"
  }
 },
 "nbformat": 4,
 "nbformat_minor": 5
}
